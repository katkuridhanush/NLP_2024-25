{
  "nbformat": 4,
  "nbformat_minor": 0,
  "metadata": {
    "colab": {
      "provenance": [],
      "include_colab_link": true
    },
    "kernelspec": {
      "name": "python3",
      "display_name": "Python 3"
    },
    "language_info": {
      "name": "python"
    }
  },
  "cells": [
    {
      "cell_type": "markdown",
      "metadata": {
        "id": "view-in-github",
        "colab_type": "text"
      },
      "source": [
        "<a href=\"https://colab.research.google.com/github/katkuridhanush/NLP_2024-25/blob/main/NLP_ass_2_(1).ipynb\" target=\"_parent\"><img src=\"https://colab.research.google.com/assets/colab-badge.svg\" alt=\"Open In Colab\"/></a>"
      ]
    },
    {
      "cell_type": "code",
      "execution_count": null,
      "metadata": {
        "colab": {
          "base_uri": "https://localhost:8080/"
        },
        "id": "K1r5QfnlWrWC",
        "outputId": "10c9cbba-7a80-4b9f-a733-4a3cf9b3bf96"
      },
      "outputs": [
        {
          "output_type": "stream",
          "name": "stderr",
          "text": [
            "[nltk_data] Downloading package punkt to /root/nltk_data...\n",
            "[nltk_data]   Unzipping tokenizers/punkt.zip.\n"
          ]
        },
        {
          "output_type": "stream",
          "name": "stdout",
          "text": [
            "Sentences Tokenization:\n",
            "['Hello there!', 'How are you doing today?NLP is fascinating.']\n",
            "\n",
            "Words Tokenization:\n",
            "['Hello', 'there', '!', 'How', 'are', 'you', 'doing', 'today', '?', 'NLP', 'is', 'fascinating', '.']\n"
          ]
        }
      ],
      "source": [
        "import nltk\n",
        "from nltk.tokenize import word_tokenize, sent_tokenize\n",
        "nltk.download('punkt')\n",
        "text = \"Hello there! How are you doing today?NLP is fascinating.\"\n",
        "sentences = sent_tokenize(text)\n",
        "print(\"Sentences Tokenization:\")\n",
        "print(sentences)\n",
        "words = word_tokenize(text)\n",
        "print(\"\\nWords Tokenization:\")\n",
        "print(words)"
      ]
    },
    {
      "cell_type": "code",
      "source": [
        "import nltk\n",
        "from nltk.stem import PorterStemmer , LancasterStemmer\n",
        "words = [\"running\",\"ran\",\"runs\",\"easily\",\"fairly\"]\n",
        "porter_stemmer = PorterStemmer()\n",
        "lancaster_stemmer = LancasterStemmer()\n",
        "porter_stems = [porter_stemmer.stem(word) for word in words]\n",
        "print(\"Porter Stemmer :\")\n",
        "print(porter_stems)\n",
        "lancaster_stems = [lancaster_stemmer.stem(word) for word in words]\n",
        "print(\"\\nLancaster Stemmer :\")\n",
        "print(lancaster_stems)"
      ],
      "metadata": {
        "colab": {
          "base_uri": "https://localhost:8080/"
        },
        "id": "rL-haXgxYIgv",
        "outputId": "2e06b894-d41a-4c63-d1c3-c9f8ba1c90d7"
      },
      "execution_count": null,
      "outputs": [
        {
          "output_type": "stream",
          "name": "stdout",
          "text": [
            "Porter Stemmer :\n",
            "['run', 'ran', 'run', 'easili', 'fairli']\n",
            "\n",
            "Lancaster Stemmer :\n",
            "['run', 'ran', 'run', 'easy', 'fair']\n"
          ]
        }
      ]
    },
    {
      "cell_type": "code",
      "source": [
        "from sklearn.preprocessing import LabelBinarizer\n",
        "text = [\"NLP is fun and interesting.\",\n",
        "        \"NLP involves linguistics and computer science.\"]\n",
        "words = set(word for text in text for word in text.split())\n",
        "lb = LabelBinarizer()\n",
        "lb.fit(list(words))\n",
        "one_hot_encoded_texts = [lb.transform(text.split()) for text in text]\n",
        "print(\"One-Hot Encoded Texts:\")\n",
        "for i,sentence in enumerate(one_hot_encoded_texts):\n",
        "    print(f\"Sentence {i+1}:\")\n",
        "    for word , vector in zip(text[i].lower().split(),sentence):\n",
        "        print(f\"{word}: {vector}\")"
      ],
      "metadata": {
        "colab": {
          "base_uri": "https://localhost:8080/"
        },
        "id": "LZv4JdWHY6Va",
        "outputId": "3b08e215-a740-42ad-d00d-4ecf2d8c00ed"
      },
      "execution_count": null,
      "outputs": [
        {
          "output_type": "stream",
          "name": "stdout",
          "text": [
            "One-Hot Encoded Texts:\n",
            "Sentence 1:\n",
            "nlp: [1 0 0 0 0 0 0 0 0]\n",
            "is: [0 0 0 0 0 0 1 0 0]\n",
            "fun: [0 0 0 1 0 0 0 0 0]\n",
            "and: [0 1 0 0 0 0 0 0 0]\n",
            "interesting.: [0 0 0 0 1 0 0 0 0]\n",
            "Sentence 2:\n",
            "nlp: [1 0 0 0 0 0 0 0 0]\n",
            "involves: [0 0 0 0 0 1 0 0 0]\n",
            "linguistics: [0 0 0 0 0 0 0 1 0]\n",
            "and: [0 1 0 0 0 0 0 0 0]\n",
            "computer: [0 0 1 0 0 0 0 0 0]\n",
            "science.: [0 0 0 0 0 0 0 0 1]\n"
          ]
        }
      ]
    },
    {
      "cell_type": "code",
      "source": [
        "from sklearn.feature_extraction.text import CountVectorizer\n",
        "sentences = [\"NLP is an interesting field.\"\n",
        "            \"It involves processing natural language.\"]\n",
        "vectorizer = CountVectorizer()\n",
        "bow_matrix = vectorizer.fit_transform(sentences)\n",
        "feature_names = vectorizer.get_feature_names_out()\n",
        "print(\"Bag of Words Matrix:\")\n",
        "for i,sentence in enumerate(bow_matrix):\n",
        "    print(f\"Sentence {i+1}:\")\n",
        "    for word , count in zip(feature_names,sentence.toarray()[0]):\n",
        "        if count>0 :\n",
        "            print(f\"{word}: {count}\")"
      ],
      "metadata": {
        "colab": {
          "base_uri": "https://localhost:8080/"
        },
        "id": "1MRm5yc1ahEv",
        "outputId": "7deddd39-d957-49b5-803c-0bb0d4fde643"
      },
      "execution_count": null,
      "outputs": [
        {
          "output_type": "stream",
          "name": "stdout",
          "text": [
            "Bag of Words Matrix:\n",
            "Sentence 1:\n",
            "an: 1\n",
            "field: 1\n",
            "interesting: 1\n",
            "involves: 1\n",
            "is: 1\n",
            "it: 1\n",
            "language: 1\n",
            "natural: 1\n",
            "nlp: 1\n",
            "processing: 1\n"
          ]
        }
      ]
    }
  ]
}